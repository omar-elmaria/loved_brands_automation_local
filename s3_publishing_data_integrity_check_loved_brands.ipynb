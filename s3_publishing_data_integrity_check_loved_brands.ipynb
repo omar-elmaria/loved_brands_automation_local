{
 "cells": [
  {
   "cell_type": "markdown",
   "metadata": {},
   "source": [
    "### Step 1: Import Packages"
   ]
  },
  {
   "cell_type": "code",
   "execution_count": 1,
   "metadata": {},
   "outputs": [
    {
     "name": "stderr",
     "output_type": "stream",
     "text": [
      "g:\\My Drive\\APAC\\Autopricing\\Switchback Testing\\switchback_test_dag\\venv_sb\\lib\\site-packages\\requests\\__init__.py:109: RequestsDependencyWarning: urllib3 (1.26.11) or chardet (5.0.0)/charset_normalizer (2.0.12) doesn't match a supported version!\n",
      "  warnings.warn(\n"
     ]
    }
   ],
   "source": [
    "import gzip\n",
    "from google.cloud import bigquery\n",
    "from google.cloud import bigquery_storage\n",
    "import os\n",
    "import pandas as pd\n",
    "import json\n",
    "import warnings\n",
    "import datetime as dt\n",
    "warnings.filterwarnings(action=\"ignore\")"
   ]
  },
  {
   "cell_type": "markdown",
   "metadata": {},
   "source": [
    "### Step 2: Open the gzip files"
   ]
  },
  {
   "cell_type": "code",
   "execution_count": 2,
   "metadata": {},
   "outputs": [],
   "source": [
    "list_gzip_files = [pos_json for pos_json in os.listdir(os.getcwd()) if pos_json.endswith(\".gzip\")]\n",
    "\n",
    "df_s3_list = []\n",
    "for i in list_gzip_files:\n",
    "    with gzip.open(filename=os.path.join(os.getcwd(), i), mode=\"r\") as f:\n",
    "        country_code = i[0:2] # i[0:2] extracts the country code\n",
    "\n",
    "        # Read the contents of a gzip file\n",
    "        vars()[\"json_\" + country_code] = f.read()\n",
    "        f.close()\n",
    "        \n",
    "        # Change the bytes object into a JSON and put it in a dataframe\n",
    "        vars()[\"df_country_\" + country_code] = pd.DataFrame(json.loads(vars()[\"json_\" + country_code].decode(\"utf-8\")))\n",
    "\n",
    "        # Add a column to the dataframe with the country_code\n",
    "        vars()[\"df_country_\" + country_code][\"country_code\"] = country_code\n",
    "        df_s3_list.append(vars()[\"df_country_\" + country_code])\n",
    "\n",
    "# Combining the generated data frames into one\n",
    "df_s3 = pd.concat(df_s3_list)\n",
    "\n",
    "# Convert the \"update_timestamp\" column from epoch seconds to a readable timestamp\n",
    "df_s3[\"update_timestamp\"] = df_s3[\"update_timestamp\"].apply(lambda x: dt.datetime.fromtimestamp(int(x)).strftime('%Y-%m-%d %H:%M:%S'))"
   ]
  },
  {
   "cell_type": "markdown",
   "metadata": {},
   "source": [
    "### Step 3: Query the LB BQ table"
   ]
  },
  {
   "cell_type": "code",
   "execution_count": 3,
   "metadata": {},
   "outputs": [
    {
     "name": "stderr",
     "output_type": "stream",
     "text": [
      "Downloading: 100%|██████████| 5421/5421 [00:03<00:00, 1768.03rows/s]\n"
     ]
    }
   ],
   "source": [
    "client = bigquery.Client(project=\"dh-logistics-product-ops\")\n",
    "query = \"\"\"\n",
    "    SELECT *\n",
    "    FROM `dh-logistics-product-ops.pricing.final_vendor_list_all_data_loved_brands_scaled_code`\n",
    "    WHERE update_timestamp = '2022-11-15 17:49:40.024391 UTC' AND country_code IN ('ae', 'ar', 'bd') AND is_lb_lm = 'Y'\n",
    "\"\"\"\n",
    "df_bq = client.query(query=query).result().to_dataframe(bqstorage_client=bigquery_storage.BigQueryReadClient(), progress_bar_type=\"tqdm\")"
   ]
  },
  {
   "cell_type": "code",
   "execution_count": 4,
   "metadata": {},
   "outputs": [],
   "source": [
    "def bq_dataframes_func(dataframe):\n",
    "    df_check = pd.merge(\n",
    "        left=dataframe,\n",
    "        right=df_bq[[\"country_code\", \"vendor_code\"]],\n",
    "        left_on=[\"country_code\", \"vendor_ids\"],\n",
    "        right_on=[\"country_code\", \"vendor_code\"],\n",
    "        how=\"inner\",\n",
    "    )\n",
    "    return df_check\n",
    "\n",
    "dataframe_country_list = [i for i in dir() if i.startswith(\"df_country_\")]\n",
    "\n",
    "df_check_list = []\n",
    "for i in dataframe_country_list:\n",
    "    country_code = i[-2:]\n",
    "    vars()[\"df_\" + country_code + \"_check\"] = bq_dataframes_func(dataframe=eval(i))\n",
    "    df_check_list.append(vars()[\"df_\" + country_code + \"_check\"])\n",
    "\n",
    "df_check = pd.concat(df_check_list)"
   ]
  },
  {
   "cell_type": "code",
   "execution_count": 5,
   "metadata": {},
   "outputs": [
    {
     "data": {
      "text/html": [
       "<div>\n",
       "<style scoped>\n",
       "    .dataframe tbody tr th:only-of-type {\n",
       "        vertical-align: middle;\n",
       "    }\n",
       "\n",
       "    .dataframe tbody tr th {\n",
       "        vertical-align: top;\n",
       "    }\n",
       "\n",
       "    .dataframe thead th {\n",
       "        text-align: right;\n",
       "    }\n",
       "</style>\n",
       "<table border=\"1\" class=\"dataframe\">\n",
       "  <thead>\n",
       "    <tr style=\"text-align: right;\">\n",
       "      <th></th>\n",
       "      <th>country_code</th>\n",
       "      <th>vendor_ids</th>\n",
       "    </tr>\n",
       "  </thead>\n",
       "  <tbody>\n",
       "    <tr>\n",
       "      <th>0</th>\n",
       "      <td>ae</td>\n",
       "      <td>1011</td>\n",
       "    </tr>\n",
       "    <tr>\n",
       "      <th>1</th>\n",
       "      <td>ar</td>\n",
       "      <td>1959</td>\n",
       "    </tr>\n",
       "    <tr>\n",
       "      <th>2</th>\n",
       "      <td>bd</td>\n",
       "      <td>2451</td>\n",
       "    </tr>\n",
       "  </tbody>\n",
       "</table>\n",
       "</div>"
      ],
      "text/plain": [
       "  country_code  vendor_ids\n",
       "0           ae        1011\n",
       "1           ar        1959\n",
       "2           bd        2451"
      ]
     },
     "execution_count": 5,
     "metadata": {},
     "output_type": "execute_result"
    }
   ],
   "source": [
    "df_s3.groupby(\"country_code\", as_index=False)[\"vendor_ids\"].count()"
   ]
  },
  {
   "cell_type": "code",
   "execution_count": 6,
   "metadata": {},
   "outputs": [
    {
     "data": {
      "text/html": [
       "<div>\n",
       "<style scoped>\n",
       "    .dataframe tbody tr th:only-of-type {\n",
       "        vertical-align: middle;\n",
       "    }\n",
       "\n",
       "    .dataframe tbody tr th {\n",
       "        vertical-align: top;\n",
       "    }\n",
       "\n",
       "    .dataframe thead th {\n",
       "        text-align: right;\n",
       "    }\n",
       "</style>\n",
       "<table border=\"1\" class=\"dataframe\">\n",
       "  <thead>\n",
       "    <tr style=\"text-align: right;\">\n",
       "      <th></th>\n",
       "      <th>country_code</th>\n",
       "      <th>vendor_code</th>\n",
       "    </tr>\n",
       "  </thead>\n",
       "  <tbody>\n",
       "    <tr>\n",
       "      <th>0</th>\n",
       "      <td>ae</td>\n",
       "      <td>1011</td>\n",
       "    </tr>\n",
       "    <tr>\n",
       "      <th>1</th>\n",
       "      <td>ar</td>\n",
       "      <td>1959</td>\n",
       "    </tr>\n",
       "    <tr>\n",
       "      <th>2</th>\n",
       "      <td>bd</td>\n",
       "      <td>2451</td>\n",
       "    </tr>\n",
       "  </tbody>\n",
       "</table>\n",
       "</div>"
      ],
      "text/plain": [
       "  country_code  vendor_code\n",
       "0           ae         1011\n",
       "1           ar         1959\n",
       "2           bd         2451"
      ]
     },
     "execution_count": 6,
     "metadata": {},
     "output_type": "execute_result"
    }
   ],
   "source": [
    "df_bq.groupby(\"country_code\", as_index=False)[\"vendor_code\"].count()"
   ]
  },
  {
   "cell_type": "code",
   "execution_count": 7,
   "metadata": {},
   "outputs": [
    {
     "data": {
      "text/html": [
       "<div>\n",
       "<style scoped>\n",
       "    .dataframe tbody tr th:only-of-type {\n",
       "        vertical-align: middle;\n",
       "    }\n",
       "\n",
       "    .dataframe tbody tr th {\n",
       "        vertical-align: top;\n",
       "    }\n",
       "\n",
       "    .dataframe thead th {\n",
       "        text-align: right;\n",
       "    }\n",
       "</style>\n",
       "<table border=\"1\" class=\"dataframe\">\n",
       "  <thead>\n",
       "    <tr style=\"text-align: right;\">\n",
       "      <th></th>\n",
       "      <th>country_code</th>\n",
       "      <th>vendor_code</th>\n",
       "      <th>vendor_ids</th>\n",
       "    </tr>\n",
       "  </thead>\n",
       "  <tbody>\n",
       "    <tr>\n",
       "      <th>0</th>\n",
       "      <td>ae</td>\n",
       "      <td>1011</td>\n",
       "      <td>1011</td>\n",
       "    </tr>\n",
       "    <tr>\n",
       "      <th>1</th>\n",
       "      <td>ar</td>\n",
       "      <td>1959</td>\n",
       "      <td>1959</td>\n",
       "    </tr>\n",
       "    <tr>\n",
       "      <th>2</th>\n",
       "      <td>bd</td>\n",
       "      <td>2451</td>\n",
       "      <td>2451</td>\n",
       "    </tr>\n",
       "  </tbody>\n",
       "</table>\n",
       "</div>"
      ],
      "text/plain": [
       "  country_code  vendor_code  vendor_ids\n",
       "0           ae         1011        1011\n",
       "1           ar         1959        1959\n",
       "2           bd         2451        2451"
      ]
     },
     "execution_count": 7,
     "metadata": {},
     "output_type": "execute_result"
    }
   ],
   "source": [
    "df_check.groupby(\"country_code\", as_index=False)[[\"vendor_code\", \"vendor_ids\"]].count()"
   ]
  },
  {
   "cell_type": "code",
   "execution_count": 8,
   "metadata": {},
   "outputs": [
    {
     "data": {
      "text/html": [
       "<div>\n",
       "<style scoped>\n",
       "    .dataframe tbody tr th:only-of-type {\n",
       "        vertical-align: middle;\n",
       "    }\n",
       "\n",
       "    .dataframe tbody tr th {\n",
       "        vertical-align: top;\n",
       "    }\n",
       "\n",
       "    .dataframe thead th {\n",
       "        text-align: right;\n",
       "    }\n",
       "</style>\n",
       "<table border=\"1\" class=\"dataframe\">\n",
       "  <thead>\n",
       "    <tr style=\"text-align: right;\">\n",
       "      <th></th>\n",
       "      <th>vendor_ids</th>\n",
       "      <th>update_timestamp</th>\n",
       "      <th>country_code</th>\n",
       "      <th>vendor_code</th>\n",
       "    </tr>\n",
       "  </thead>\n",
       "  <tbody>\n",
       "    <tr>\n",
       "      <th>0</th>\n",
       "      <td>1011</td>\n",
       "      <td>1011</td>\n",
       "      <td>1011</td>\n",
       "      <td>1011</td>\n",
       "    </tr>\n",
       "    <tr>\n",
       "      <th>1</th>\n",
       "      <td>1959</td>\n",
       "      <td>1959</td>\n",
       "      <td>1959</td>\n",
       "      <td>1959</td>\n",
       "    </tr>\n",
       "    <tr>\n",
       "      <th>2</th>\n",
       "      <td>2451</td>\n",
       "      <td>2451</td>\n",
       "      <td>2451</td>\n",
       "      <td>2451</td>\n",
       "    </tr>\n",
       "  </tbody>\n",
       "</table>\n",
       "</div>"
      ],
      "text/plain": [
       "   vendor_ids  update_timestamp  country_code  vendor_code\n",
       "0        1011              1011          1011         1011\n",
       "1        1959              1959          1959         1959\n",
       "2        2451              2451          2451         2451"
      ]
     },
     "execution_count": 8,
     "metadata": {},
     "output_type": "execute_result"
    }
   ],
   "source": [
    "df_check.groupby(\"country_code\", as_index=False).apply(lambda x: x.notnull().count())"
   ]
  },
  {
   "cell_type": "code",
   "execution_count": 9,
   "metadata": {},
   "outputs": [
    {
     "data": {
      "text/plain": [
       "False    5421\n",
       "Name: vendor_code, dtype: int64"
      ]
     },
     "execution_count": 9,
     "metadata": {},
     "output_type": "execute_result"
    }
   ],
   "source": [
    "df_check[\"vendor_code\"].isnull().value_counts() # vendor_code is the field coming from bigquery. If it is null, this means that there is a mismatch"
   ]
  },
  {
   "cell_type": "code",
   "execution_count": 10,
   "metadata": {},
   "outputs": [
    {
     "data": {
      "text/plain": [
       "False    5421\n",
       "Name: vendor_ids, dtype: int64"
      ]
     },
     "execution_count": 10,
     "metadata": {},
     "output_type": "execute_result"
    }
   ],
   "source": [
    "df_check[\"vendor_ids\"].isnull().value_counts() # vendor_ids is the field coming from S3. If it is null, this means that there is a mismatch"
   ]
  }
 ],
 "metadata": {
  "kernelspec": {
   "display_name": "Python 3.10.7 ('venv_sb')",
   "language": "python",
   "name": "python3"
  },
  "language_info": {
   "codemirror_mode": {
    "name": "ipython",
    "version": 3
   },
   "file_extension": ".py",
   "mimetype": "text/x-python",
   "name": "python",
   "nbconvert_exporter": "python",
   "pygments_lexer": "ipython3",
   "version": "3.10.7"
  },
  "orig_nbformat": 4,
  "vscode": {
   "interpreter": {
    "hash": "14e010e4cd1c1ecfc2a757c09121a44deab645fe879881bec23ed2eed3f5394d"
   }
  }
 },
 "nbformat": 4,
 "nbformat_minor": 2
}
